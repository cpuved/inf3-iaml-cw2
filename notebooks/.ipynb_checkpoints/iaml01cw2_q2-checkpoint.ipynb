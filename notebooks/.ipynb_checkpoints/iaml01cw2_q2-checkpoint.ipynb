{
 "cells": [
  {
   "cell_type": "code",
   "execution_count": 22,
   "metadata": {},
   "outputs": [],
   "source": [
    "\n",
    "##########################################################\n",
    "#  Python script template for Question 2 (IAML Level 10)\n",
    "#  Note that\n",
    "#  - You should not change the name of this file, 'iaml01cw2_q2.py', which is the file name you should use when you submit your code for this question.\n",
    "#  - You should write code for the functions defined below. Do not change their names.\n",
    "#  - You can define function arguments (parameters) and returns (attributes) if necessary.\n",
    "#  - In case you define additional functions, do not define them here, but put them in a separate Python module file, \"iaml01cw2_my_helpers.py\", and import it in this script.\n",
    "#  - For those questions requiring you to show results in tables, your code does not need to present them in tables - just showing them with print() is fine.\n",
    "#  - You do not need to include this header in your submission.\n",
    "##########################################################\n",
    "\n",
    "#--- Code for loading modules and the data set and pre-processing --->\n",
    "# NB: You can edit the following and add code (e.g. code for loading sklearn) if necessary.\n",
    "\n",
    "import numpy as np\n",
    "import scipy\n",
    "import matplotlib.pyplot as plt\n",
    "import seaborn as sns\n",
    "import pickle\n",
    "from sklearn.decomposition import PCA\n",
    "from sklearn.linear_model import LogisticRegression\n",
    "from sklearn.svm import SVC\n",
    "from sklearn.model_selection import cross_val_score\n",
    "from sklearn.metrics import accuracy_score, confusion_matrix\n",
    "from iaml01cw2_helpers import *\n",
    "# from iaml01cw2_my_helpers import *\n",
    "\n",
    "#<----"
   ]
  },
  {
   "cell_type": "code",
   "execution_count": 2,
   "metadata": {},
   "outputs": [],
   "source": [
    "# Repeat steps to retrieve data\n",
    "Xtrn, Ytrn, Xtst, Ytst = load_FashionMNIST(\"../data\")\n",
    "   \n",
    "# STEP 1: Make copies of original X data\n",
    "Xtrn_orig = Xtrn.copy()\n",
    "Xtst_orig = Xtst.copy()\n",
    "   \n",
    "# STEP 2: Divide each elemnt of Xtrn and Xtst\n",
    "Xtrn = np.divide(Xtrn, 255.0)\n",
    "Xtst = np.divide(Xtst, 255.0)\n",
    " \n",
    "# STEP 3: Find mean of each col in Xtrn\n",
    "Xmean = np.mean(Xtrn, axis=0)\n",
    "  \n",
    "# STEP 4: Subtract mean from each from of Xtrn and Xtst\n",
    "Xtrn_nm = np.subtract(Xtrn, Xmean)\n",
    "Xtst_nm = np.subtract(Xtst, Xmean)"
   ]
  },
  {
   "cell_type": "code",
   "execution_count": 3,
   "metadata": {},
   "outputs": [
    {
     "data": {
      "text/plain": [
       "LogisticRegression(C=1.0, class_weight=None, dual=False, fit_intercept=True,\n",
       "          intercept_scaling=1, max_iter=100, multi_class='ovr', n_jobs=1,\n",
       "          penalty='l2', random_state=None, solver='liblinear', tol=0.0001,\n",
       "          verbose=0, warm_start=False)"
      ]
     },
     "execution_count": 3,
     "metadata": {},
     "output_type": "execute_result"
    }
   ],
   "source": [
    "# Q2.1\n",
    "def iaml01cw2_q2_1():\n",
    "    # Use pickle to avoid training every time  \n",
    "    \n",
    "    #---------------------(COMMENT OUT WHEN COMPLETED ONCE!)---------------------#\n",
    "    # Classification experiment with multinomial logistic regression\n",
    "    model_2_1 = LogisticRegression().fit(Xtrn_nm, Ytrn) # Uncomment to retrain\n",
    "    # Save the model to disk \n",
    "    pickle.dump(model_2_1, open('model_2_1.sav', 'wb')) # Uncomment to resave\n",
    "    #----------------------------------------------------------------------------#\n",
    "    \n",
    "    # Load the model from disk\n",
    "    model_2_1 = pickle.load(open('model_2_1.sav', 'rb'))\n",
    "    \n",
    "    # Accuracy score and confusion matrix\n",
    "    acc_score = model_2_1.score(Xtst_nm, Ytst)\n",
    "    Ypred = model_2_1.predict(Xtst_nm)\n",
    "    cm = confusion_matrix(Ytst, Ypred)\n",
    "    \n",
    "    print(acc_score)\n",
    "    print(cm)\n",
    "    \n",
    "    return model_2_1\n",
    "\n",
    "iaml01cw2_q2_1()"
   ]
  },
  {
   "cell_type": "code",
   "execution_count": 26,
   "metadata": {},
   "outputs": [
    {
     "data": {
      "text/plain": [
       "SVC(C=1.0, cache_size=200, class_weight=None, coef0=0.0,\n",
       "  decision_function_shape='ovr', degree=3, gamma='auto', kernel='rbf',\n",
       "  max_iter=-1, probability=False, random_state=None, shrinking=True,\n",
       "  tol=0.001, verbose=False)"
      ]
     },
     "execution_count": 26,
     "metadata": {},
     "output_type": "execute_result"
    }
   ],
   "source": [
    "# Q2.2\n",
    "def iaml01cw2_q2_2():    \n",
    "    # Use pickle to avoid training every time\n",
    "    \n",
    "    #---------------------(COMMENT OUT WHEN COMPLETED ONCE!)---------------------#\n",
    "    # Classification experiment with multinomial logistic regression\n",
    "    model_2_2 = SVC().fit(Xtrn_nm, Ytrn) # Uncomment to retrain\n",
    "    # Save the model to disk \n",
    "    pickle.dump(model_2_2, open('model_2_2.sav', 'wb')) # Uncomment to resave\n",
    "    #----------------------------------------------------------------------------#\n",
    "    \n",
    "    # Load the model from disk\n",
    "    model_2_2 = pickle.load(open('model_2_2.sav', 'rb'))\n",
    "    \n",
    "    # Accuracy score and confusion matrix\n",
    "    acc_score = model_2_2.score(Xtst_nm, Ytst)\n",
    "    Ypred = model_2_2.predict(Xtst_nm)\n",
    "    cm = confusion_matrix(Ytst, Ypred)\n",
    "    \n",
    "    print(acc_score)\n",
    "    print(cm)\n",
    "    \n",
    "    return model_2_2\n",
    "    \n",
    "iaml01cw2_q2_2()"
   ]
  },
  {
   "cell_type": "code",
   "execution_count": 31,
   "metadata": {},
   "outputs": [
    {
     "data": {
      "image/png": "[encoded data removed]",
      "text/plain": [
       "<Figure size 864x720 with 2 Axes>"
      ]
     },
     "metadata": {
      "needs_background": "light"
     },
     "output_type": "display_data"
    }
   ],
   "source": [
    "# Q2.3\n",
    "def iaml01cw2_q2_3():\n",
    "    # Get all vars 2.1\n",
    "    model_2_1 = iaml01cw2_q2_1()\n",
    "    \n",
    "    # Get first 2 principal components\n",
    "    pca = PCA(n_components=2)\n",
    "    Xtrn_nm_trans = pca.fit_transform(Xtrn_nm)\n",
    "    \n",
    "    # Plot\n",
    "    plt.figure(figsize=(12,10))\n",
    "    plt.title(\"Decision Regions for Logistic Regression Classifier\")\n",
    "    \n",
    "    x_min, x_max = np.multiply(-5, np.std(Xtrn_nm_trans[:,0])), np.multiply(5, np.std(Xtrn_nm_trans[:,0]))\n",
    "    y_min, y_max = np.multiply(-5, np.std(Xtrn_nm_trans[:,1])), np.multiply(5, np.std(Xtrn_nm_trans[:,1]))\n",
    "    \n",
    "    \n",
    "    x_range = np.linspace(x_min, x_max, 100)\n",
    "    y_range = np.linspace(y_min, y_max, 100)  \n",
    "    \n",
    "    V = []\n",
    "    \n",
    "    for y in y_range:\n",
    "        for x in x_range:\n",
    "            V.append([x,y]) \n",
    "    \n",
    "    z = pca.inverse_transform(V)\n",
    "    z = model_2_1.predict(z)\n",
    "    z = z.reshape(100,100)\n",
    "    \n",
    "    colours = plt.cm.get_cmap(\"coolwarm\", 10)\n",
    "    levels = np.linspace(0, 9, 11) # n+1 where n=10 classes\n",
    "    plt.contourf(x_range, y_range, z, cmap=colours, levels=levels)\n",
    "    plt.xlabel(\"PC #1\")\n",
    "    plt.ylabel(\"PC #2\")\n",
    "    plt.colorbar(spacing='uniform', ticks=np.arange(11), boundaries=np.arange(11)).set_label(\"Class\", rotation=90, labelpad=10)\n",
    "    plt.show()  \n",
    "\n",
    "iaml01cw2_q2_3()"
   ]
  },
  {
   "cell_type": "code",
   "execution_count": 32,
   "metadata": {},
   "outputs": [
    {
     "data": {
      "image/png": "[encoded data removed]",
      "text/plain": [
       "<Figure size 864x720 with 2 Axes>"
      ]
     },
     "metadata": {
      "needs_background": "light"
     },
     "output_type": "display_data"
    }
   ],
   "source": [
    "# Q2.4\n",
    "def iaml01cw2_q2_4():\n",
    "    # Get all vars from Q2.2\n",
    "    model_2_2 = iaml01cw2_q2_2()\n",
    "    \n",
    "    # Get first 2 principal components\n",
    "    pca = PCA(n_components=2)\n",
    "    Xtrn_nm_trans = pca.fit_transform(Xtrn_nm)\n",
    "    \n",
    "    # Plot\n",
    "    plt.figure(figsize=(12,10))\n",
    "    plt.title(\"Decision Regions for SVC Classifier\")\n",
    "    \n",
    "    x_min, x_max = np.multiply(-5, np.std(Xtrn_nm_trans[:,0])), np.multiply(5, np.std(Xtrn_nm_trans[:,0]))\n",
    "    y_min, y_max = np.multiply(-5, np.std(Xtrn_nm_trans[:,1])), np.multiply(5, np.std(Xtrn_nm_trans[:,1]))    \n",
    "    \n",
    "    x_range = np.linspace(x_min, x_max, 100)\n",
    "    y_range = np.linspace(y_min, y_max, 100)  \n",
    "    \n",
    "    V = []\n",
    "    \n",
    "    for y in y_range:\n",
    "        for x in x_range:\n",
    "            V.append([x,y]) \n",
    "    \n",
    "    z = pca.inverse_transform(V)\n",
    "    z = model_2_2.predict(z)\n",
    "    z = z.reshape(100,100)\n",
    "    \n",
    "    colours = plt.cm.get_cmap(\"coolwarm\", 10)\n",
    "    levels = np.linspace(0, 9, 11) # n+1 where n=10 classes\n",
    "    plt.contourf(x_range, y_range, z, cmap=colours, levels=levels)\n",
    "    plt.xlabel(\"PC #1\")\n",
    "    plt.ylabel(\"PC #2\")\n",
    "    plt.colorbar(spacing='uniform', ticks=np.arange(11), boundaries=np.arange(11)).set_label(\"Class\", rotation=90, labelpad=10)\n",
    "    plt.show()  \n",
    "\n",
    "iaml01cw2_q2_4()"
   ]
  },
  {
   "cell_type": "code",
   "execution_count": 9,
   "metadata": {},
   "outputs": [
    {
     "data": {
      "image/png": "[encoded data removed]",
      "text/plain": [
       "<Figure size 648x432 with 1 Axes>"
      ]
     },
     "metadata": {
      "needs_background": "light"
     },
     "output_type": "display_data"
    },
    {
     "name": "stdout",
     "output_type": "stream",
     "text": [
      "0.8565023106939273 21.544346900318846\n",
      "[0.6481958005910101, 0.6910976845108582, 0.7367022711334088, 0.783804163444882, 0.8197017376658096, 0.8447012881144618, 0.8565023106939273, 0.8542039045033057, 0.8495030959102815, 0.8406013798229367]\n"
     ]
    },
    {
     "data": {
      "text/plain": [
       "21.544346900318846"
      ]
     },
     "execution_count": 9,
     "metadata": {},
     "output_type": "execute_result"
    }
   ],
   "source": [
    "# Q2.5\n",
    "def iaml01cw2_q2_5():\n",
    "    Xsmall = np.zeros((10,1000,784))\n",
    "    Ysmall = np.zeros((10,1000))\n",
    "    \n",
    "    for i in range(10):\n",
    "        Xsmall[i] = Xtrn_nm[Ytrn==i][:1000]\n",
    "        Ysmall[i] = i\n",
    "\n",
    "    Xsmall = Xsmall.reshape(10000,784)\n",
    "    Ysmall = Ysmall.reshape(10000)\n",
    "\n",
    "    Cs = np.logspace(-2,3,10)\n",
    "    scores = []\n",
    "    \n",
    "    for c in Cs:\n",
    "        # Classification experiment with multinomial logistic regression\n",
    "        model_2_5 = SVC(C=c) # Gamma and RBF by default\n",
    "        scores.append(cross_val_score(model_2_5, Xsmall, Ysmall, n_jobs=-1, cv=3).mean())\n",
    "\n",
    "    # Plot\n",
    "    plt.figure(figsize=(9,6))\n",
    "    plt.title(\"Mean Cross-Validated Classification Accuracy against the Penalty Parameter\")\n",
    "    plt.plot(Cs,scores)\n",
    "    plt.xscale(\"log\")\n",
    "    plt.xlabel(\"Penalty Parameter\")\n",
    "    plt.ylabel(\"Mean Cross-Validated Classification Accuracy\")\n",
    "    plt.show()\n",
    "    \n",
    "    # Find best score and it's C value\n",
    "    best_score = max(scores)\n",
    "    best_c = Cs[np.argmax(scores)]\n",
    "    \n",
    "    print(best_score, best_c)\n",
    "    print(scores)  \n",
    "    \n",
    "    return best_c\n",
    "    \n",
    "iaml01cw2_q2_5()"
   ]
  },
  {
   "cell_type": "code",
   "execution_count": 4,
   "metadata": {},
   "outputs": [
    {
     "name": "stdout",
     "output_type": "stream",
     "text": [
      "Train score: 0.9084166666666667\n",
      "Test score: 0.8765\n"
     ]
    }
   ],
   "source": [
    "# Q2.6\n",
    "def iaml01cw2_q2_6():\n",
    "    # Get all vars from Q2.5\n",
    "    best_c = iaml01cw2_q2_5()\n",
    "    # best_c = 21.544346900318846 # for quickeness when testing\n",
    "    \n",
    "    # Use pickle to avoid training every time  \n",
    "    \n",
    "    #---------------------(COMMENT OUT WHEN COMPLETED ONCE!)---------------------#\n",
    "    # Classification experiment with multinomial logistic regression\n",
    "    model_2_6 = SVC(C=best_c).fit(Xtrn_nm, Ytrn) # Uncomment to retrain\n",
    "    # Save the model to disk \n",
    "    pickle.dump(model_2_6, open('model_2_6.sav', 'wb')) # Uncomment to resave\n",
    "    #----------------------------------------------------------------------------#\n",
    "    \n",
    "    # Load the model from disk\n",
    "    model_2_6 = pickle.load(open('model_2_6.sav', 'rb'))\n",
    "    \n",
    "    # Accuracy score\n",
    "    acc_score_trn = model_2_6.score(Xtrn_nm, Ytrn)\n",
    "    acc_score_tst = model_2_6.score(Xtst_nm, Ytst)\n",
    "    \n",
    "    print(\"Train score:\", acc_score_trn)\n",
    "    print(\"Test score:\", acc_score_tst)\n",
    "      \n",
    "iaml01cw2_q2_6()"
   ]
  }
 ],
 "metadata": {
  "kernelspec": {
   "display_name": "Python 3",
   "language": "python",
   "name": "python3"
  },
  "language_info": {
   "codemirror_mode": {
    "name": "ipython",
    "version": 3
   },
   "file_extension": ".py",
   "mimetype": "text/x-python",
   "name": "python",
   "nbconvert_exporter": "python",
   "pygments_lexer": "ipython3",
   "version": "3.7.9"
  }
 },
 "nbformat": 4,
 "nbformat_minor": 4
}
