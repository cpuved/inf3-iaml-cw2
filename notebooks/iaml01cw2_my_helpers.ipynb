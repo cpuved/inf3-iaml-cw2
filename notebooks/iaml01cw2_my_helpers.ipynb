{
 "cells": [
  {
   "cell_type": "code",
   "execution_count": 1,
   "metadata": {},
   "outputs": [],
   "source": [
    "def readLangs():\n",
    "    file = open(\"../data/languages.txt\", \"r\")  \n",
    "    lang_names = []\n",
    "    lang_codes= []\n",
    "    for i in range(22):\n",
    "        read = file.readline().split()\n",
    "        lang_names.append(read[1])\n",
    "        lang_codes.append(read[2][1:-1])   \n",
    "    file.close()\n",
    "    \n",
    "    return lang_names, lang_codes"
   ]
  }
 ],
 "metadata": {
  "kernelspec": {
   "display_name": "Python 3",
   "language": "python",
   "name": "python3"
  },
  "language_info": {
   "codemirror_mode": {
    "name": "ipython",
    "version": 3
   },
   "file_extension": ".py",
   "mimetype": "text/x-python",
   "name": "python",
   "nbconvert_exporter": "python",
   "pygments_lexer": "ipython3",
   "version": "3.7.9"
  }
 },
 "nbformat": 4,
 "nbformat_minor": 4
}
